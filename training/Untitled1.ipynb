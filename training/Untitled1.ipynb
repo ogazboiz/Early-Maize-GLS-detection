{
 "cells": [
  {
   "cell_type": "code",
   "execution_count": 9,
   "id": "7bf8afb3",
   "metadata": {},
   "outputs": [
    {
     "name": "stdout",
     "output_type": "stream",
     "text": [
      "Requirement already satisfied: ipython in c:\\users\\hp 1040 g3\\anaconda3\\envs\\tensorflow\\lib\\site-packages (8.12.0)\n",
      "Requirement already satisfied: traitlets>=5 in c:\\users\\hp 1040 g3\\anaconda3\\envs\\tensorflow\\lib\\site-packages (from ipython) (5.7.1)\n",
      "Requirement already satisfied: jedi>=0.16 in c:\\users\\hp 1040 g3\\anaconda3\\envs\\tensorflow\\lib\\site-packages (from ipython) (0.18.1)\n",
      "Requirement already satisfied: stack-data in c:\\users\\hp 1040 g3\\anaconda3\\envs\\tensorflow\\lib\\site-packages (from ipython) (0.2.0)\n",
      "Requirement already satisfied: backcall in c:\\users\\hp 1040 g3\\anaconda3\\envs\\tensorflow\\lib\\site-packages (from ipython) (0.2.0)\n",
      "Requirement already satisfied: pickleshare in c:\\users\\hp 1040 g3\\anaconda3\\envs\\tensorflow\\lib\\site-packages (from ipython) (0.7.5)\n",
      "Requirement already satisfied: pygments>=2.4.0 in c:\\users\\hp 1040 g3\\anaconda3\\envs\\tensorflow\\lib\\site-packages (from ipython) (2.15.1)\n",
      "Requirement already satisfied: colorama in c:\\users\\hp 1040 g3\\anaconda3\\envs\\tensorflow\\lib\\site-packages (from ipython) (0.4.6)\n",
      "Requirement already satisfied: prompt-toolkit!=3.0.37,<3.1.0,>=3.0.30 in c:\\users\\hp 1040 g3\\anaconda3\\envs\\tensorflow\\lib\\site-packages (from ipython) (3.0.36)\n",
      "Requirement already satisfied: matplotlib-inline in c:\\users\\hp 1040 g3\\anaconda3\\envs\\tensorflow\\lib\\site-packages (from ipython) (0.1.6)\n",
      "Requirement already satisfied: decorator in c:\\users\\hp 1040 g3\\anaconda3\\envs\\tensorflow\\lib\\site-packages (from ipython) (5.1.1)\n",
      "Requirement already satisfied: parso<0.9.0,>=0.8.0 in c:\\users\\hp 1040 g3\\anaconda3\\envs\\tensorflow\\lib\\site-packages (from jedi>=0.16->ipython) (0.8.3)\n",
      "Requirement already satisfied: wcwidth in c:\\users\\hp 1040 g3\\anaconda3\\envs\\tensorflow\\lib\\site-packages (from prompt-toolkit!=3.0.37,<3.1.0,>=3.0.30->ipython) (0.2.5)\n",
      "Requirement already satisfied: pure-eval in c:\\users\\hp 1040 g3\\anaconda3\\envs\\tensorflow\\lib\\site-packages (from stack-data->ipython) (0.2.2)\n",
      "Requirement already satisfied: asttokens in c:\\users\\hp 1040 g3\\anaconda3\\envs\\tensorflow\\lib\\site-packages (from stack-data->ipython) (2.0.5)\n",
      "Requirement already satisfied: executing in c:\\users\\hp 1040 g3\\anaconda3\\envs\\tensorflow\\lib\\site-packages (from stack-data->ipython) (0.8.3)\n",
      "Requirement already satisfied: six in c:\\users\\hp 1040 g3\\anaconda3\\envs\\tensorflow\\lib\\site-packages (from asttokens->stack-data->ipython) (1.16.0)\n"
     ]
    }
   ],
   "source": [
    "!pip install ipython\n"
   ]
  },
  {
   "cell_type": "code",
   "execution_count": 12,
   "id": "0448d4d0",
   "metadata": {
    "scrolled": true
   },
   "outputs": [],
   "source": [
    "import IPython\n",
    "import tensorflow as tf \n",
    "from tensorflow.keras import models, layers\n",
    "import matplotlib.pyplot as plt\n",
    "from IPython.display import display, update_display, HTML\n",
    "\n",
    "from tensorflow.keras.preprocessing.image import ImageDataGenerator"
   ]
  },
  {
   "cell_type": "code",
   "execution_count": 3,
   "id": "2179afce",
   "metadata": {},
   "outputs": [
    {
     "name": "stdout",
     "output_type": "stream",
     "text": [
      "\n",
      "Note: you may need to restart the kernel to use updated packages.\n"
     ]
    },
    {
     "name": "stderr",
     "output_type": "stream",
     "text": [
      "'conda' is not recognized as an internal or external command,\n",
      "operable program or batch file.\n"
     ]
    }
   ],
   "source": [
    "ImageDataGenerator(\n",
    "    rescale=1./255,\n",
    "    horizontal_flip=True,\n",
    "    rotation_range=g\n",
    ")\n"
   ]
  },
  {
   "cell_type": "code",
   "execution_count": null,
   "id": "0abc70df",
   "metadata": {},
   "outputs": [],
   "source": []
  }
 ],
 "metadata": {
  "kernelspec": {
   "display_name": "Python 3 (ipykernel)",
   "language": "python",
   "name": "python3"
  },
  "language_info": {
   "codemirror_mode": {
    "name": "ipython",
    "version": 3
   },
   "file_extension": ".py",
   "mimetype": "text/x-python",
   "name": "python",
   "nbconvert_exporter": "python",
   "pygments_lexer": "ipython3",
   "version": "3.10.11"
  }
 },
 "nbformat": 4,
 "nbformat_minor": 5
}
